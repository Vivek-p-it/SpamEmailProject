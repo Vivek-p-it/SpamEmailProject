import pandas as pd
import matplotlib.pyplot as plt
import seaborn as sns
from sklearn import svm
from sklearn.feature_extraction.text import TfidfVectorizer
from sklearn.model_selection import GridSearchCV, train_test_split
from sklearn.metrics import accuracy_score, classification_report, confusion_matrix
data = pd.read_csv("email.csv", encoding="latin-1")
data.columns = ["label", "message"]
data['label'] = data['label'].map({'ham': 0, 'spam': 1})
X = data["message"]
y = data["label"]
X_train, X_test, y_train, y_test = train_test_split(X, y, test_size=0.2, random_state=42)
non_nan_indices = ~pd.isna(y_train)
X_train = X_train[non_nan_indices]
y_train = y_train[non_nan_indices]
vectorizer = TfidfVectorizer(min_df=1, stop_words="english")
extracted_X_train = vectorizer.fit_transform(X_train)
tuned_parameters = {'kernel': ['rbf','linear'], 'gamma': [1e-3, 1e-4],'C': [1, 10, 100, 1000]}
model = GridSearchCV(svm.SVC(), tuned_parameters)
model.fit(extracted_X_train, y_train)
y_pred = model.predict(vectorizer.transform(X_test))
new_email = ["Congratulations! You won a FREE $500 Gift Card!"]
new_email_features = vectorizer.transform(new_email)
prediction = model.predict(new_email_features)
if prediction[0] == 1:
    print("Prediction: Spam Detected")
else:
    print("Prediction: Not Spam")
